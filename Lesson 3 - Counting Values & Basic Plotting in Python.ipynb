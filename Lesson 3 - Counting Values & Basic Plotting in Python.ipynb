{
 "cells": [
  {
   "cell_type": "markdown",
   "id": "specialized-dietary",
   "metadata": {},
   "source": [
    "# Counting Values & Basic Plotting in Python"
   ]
  },
  {
   "cell_type": "markdown",
   "id": "familiar-belief",
   "metadata": {
    "toc": true
   },
   "source": [
    "<h1>Contents<span class=\"tocSkip\"></span></h1>\n",
    "<div class=\"toc\"><ul class=\"toc-item\"><li><span><a href=\"#The-value-of-web-traffic-data\" data-toc-modified-id=\"The-value-of-web-traffic-data-1\">The value of web traffic data</a></span></li><li><span><a href=\"#Getting-oriented-with-the-data\" data-toc-modified-id=\"Getting-oriented-with-the-data-2\">Getting oriented with the data</a></span></li><li><span><a href=\"#Counting-with-.value_counts()\" data-toc-modified-id=\"Counting-with-.value_counts()-3\">Counting with <code>.value_counts()</code></a></span></li><li><span><a href=\"#Python-code-execution-and-objects\" data-toc-modified-id=\"Python-code-execution-and-objects-4\">Python code execution and objects</a></span></li><li><span><a href=\"#Visualizing-data-with-.plot()\" data-toc-modified-id=\"Visualizing-data-with-.plot()-5\">Visualizing data with <code>.plot()</code></a></span><ul class=\"toc-item\"><li><span><a href=\"#Bar-charts\" data-toc-modified-id=\"Bar-charts-5.1\">Bar charts</a></span></li></ul></li><li><span><a href=\"#Practice-Problems\" data-toc-modified-id=\"Practice-Problems-6\">Practice Problems</a></span></li></ul></div>"
   ]
  },
  {
   "cell_type": "markdown",
   "id": "ambient-solomon",
   "metadata": {},
   "source": [
    "### The value of web traffic data"
   ]
  },
  {
   "cell_type": "markdown",
   "id": "immune-bottle",
   "metadata": {},
   "source": [
    "The practice of web analytics focuses on assessing and improving the company's traffic and engagement by analyzing and understanding how people view and traverse the website.\n",
    "\n",
    "Generally, the main goals of web analytics are:\n",
    "\n",
    "1. To find and monitor **trends**, such the ratio of mobile pageviews to desktop pageviews\n",
    "2. To find and monitor **outliers**, such as significant traffic from one referrer\n",
    "3. To measure **change over time** of metrics (key measurements set by the company) such as the rate of inbound traffic from direct email campaigns\n",
    "\n",
    "Learnings from this data could potentially inform business decisions, such as where to increase spending on ads, when to send promotional emails, and what kinds of blog posts to publish."
   ]
  },
  {
   "cell_type": "markdown",
   "id": "changing-hudson",
   "metadata": {},
   "source": [
    "### Getting oriented with the data"
   ]
  },
  {
   "cell_type": "markdown",
   "id": "tired-store",
   "metadata": {},
   "source": [
    "> For this lesson, we will be using web traffic data from Watsi, an organization that allows people to fund healthcare costs for people around the world."
   ]
  },
  {
   "cell_type": "code",
   "execution_count": 1,
   "id": "according-branch",
   "metadata": {},
   "outputs": [],
   "source": [
    "# Import the pandas library\n",
    "import pandas as pd"
   ]
  },
  {
   "cell_type": "code",
   "execution_count": 2,
   "id": "wanted-literature",
   "metadata": {},
   "outputs": [
    {
     "data": {
      "text/html": [
       "<div>\n",
       "<style scoped>\n",
       "    .dataframe tbody tr th:only-of-type {\n",
       "        vertical-align: middle;\n",
       "    }\n",
       "\n",
       "    .dataframe tbody tr th {\n",
       "        vertical-align: top;\n",
       "    }\n",
       "\n",
       "    .dataframe thead th {\n",
       "        text-align: right;\n",
       "    }\n",
       "</style>\n",
       "<table border=\"1\" class=\"dataframe\">\n",
       "  <thead>\n",
       "    <tr style=\"text-align: right;\">\n",
       "      <th></th>\n",
       "      <th>referrer</th>\n",
       "      <th>timestamp</th>\n",
       "      <th>title</th>\n",
       "      <th>url</th>\n",
       "      <th>user_agent</th>\n",
       "      <th>user_id</th>\n",
       "      <th>referrer_domain</th>\n",
       "      <th>website_section</th>\n",
       "      <th>platform</th>\n",
       "    </tr>\n",
       "  </thead>\n",
       "  <tbody>\n",
       "    <tr>\n",
       "      <th>0</th>\n",
       "      <td>https://www.google.com/</td>\n",
       "      <td>2016-02-05 00:48:23</td>\n",
       "      <td>Watsi | Fund medical treatments for people aro...</td>\n",
       "      <td>https://watsi.org/</td>\n",
       "      <td>Mozilla/5.0 (Macintosh; Intel Mac OS X 10_10_4...</td>\n",
       "      <td>CHAROLETTE S</td>\n",
       "      <td>google</td>\n",
       "      <td>NaN</td>\n",
       "      <td>Desktop</td>\n",
       "    </tr>\n",
       "    <tr>\n",
       "      <th>1</th>\n",
       "      <td>https://themeteorchef.com/snippets/making-use-...</td>\n",
       "      <td>2016-02-24 23:12:10</td>\n",
       "      <td>Watsi | The Meteor Chef</td>\n",
       "      <td>https://watsi.org/team/the-meteor-chef</td>\n",
       "      <td>Mozilla/5.0 (Windows NT 6.1; WOW64) AppleWebKi...</td>\n",
       "      <td>WARREN Q</td>\n",
       "      <td>themeteorchef.com</td>\n",
       "      <td>team</td>\n",
       "      <td>Desktop</td>\n",
       "    </tr>\n",
       "    <tr>\n",
       "      <th>2</th>\n",
       "      <td>https://watsi.org/</td>\n",
       "      <td>2015-12-25 17:59:35</td>\n",
       "      <td>Watsi | Give the gift of health with a Watsi G...</td>\n",
       "      <td>https://watsi.org/gift-cards</td>\n",
       "      <td>Mozilla/5.0 (Macintosh; Intel Mac OS X 10_11_1...</td>\n",
       "      <td>MITCHEL O</td>\n",
       "      <td>watsi.org</td>\n",
       "      <td>gift-cards</td>\n",
       "      <td>Desktop</td>\n",
       "    </tr>\n",
       "    <tr>\n",
       "      <th>3</th>\n",
       "      <td>NaN</td>\n",
       "      <td>2016-02-05 21:19:30</td>\n",
       "      <td>Watsi | Fund medical treatments for people aro...</td>\n",
       "      <td>https://watsi.org/</td>\n",
       "      <td>Mozilla/5.0 (Macintosh; Intel Mac OS X 10_11_2...</td>\n",
       "      <td>MICHEL O</td>\n",
       "      <td>NaN</td>\n",
       "      <td>NaN</td>\n",
       "      <td>Desktop</td>\n",
       "    </tr>\n",
       "    <tr>\n",
       "      <th>4</th>\n",
       "      <td>https://watsi.org/fund-treatments</td>\n",
       "      <td>2016-02-14 19:30:08</td>\n",
       "      <td>Watsi | Fund medical treatments for people aro...</td>\n",
       "      <td>https://watsi.org/</td>\n",
       "      <td>Mozilla/5.0 (Macintosh; Intel Mac OS X 10_10_2...</td>\n",
       "      <td>ANDREE N</td>\n",
       "      <td>watsi.org</td>\n",
       "      <td>NaN</td>\n",
       "      <td>Desktop</td>\n",
       "    </tr>\n",
       "  </tbody>\n",
       "</table>\n",
       "</div>"
      ],
      "text/plain": [
       "                                            referrer            timestamp  \\\n",
       "0                            https://www.google.com/  2016-02-05 00:48:23   \n",
       "1  https://themeteorchef.com/snippets/making-use-...  2016-02-24 23:12:10   \n",
       "2                                 https://watsi.org/  2015-12-25 17:59:35   \n",
       "3                                                NaN  2016-02-05 21:19:30   \n",
       "4                  https://watsi.org/fund-treatments  2016-02-14 19:30:08   \n",
       "\n",
       "                                               title  \\\n",
       "0  Watsi | Fund medical treatments for people aro...   \n",
       "1                            Watsi | The Meteor Chef   \n",
       "2  Watsi | Give the gift of health with a Watsi G...   \n",
       "3  Watsi | Fund medical treatments for people aro...   \n",
       "4  Watsi | Fund medical treatments for people aro...   \n",
       "\n",
       "                                      url  \\\n",
       "0                      https://watsi.org/   \n",
       "1  https://watsi.org/team/the-meteor-chef   \n",
       "2            https://watsi.org/gift-cards   \n",
       "3                      https://watsi.org/   \n",
       "4                      https://watsi.org/   \n",
       "\n",
       "                                          user_agent       user_id  \\\n",
       "0  Mozilla/5.0 (Macintosh; Intel Mac OS X 10_10_4...  CHAROLETTE S   \n",
       "1  Mozilla/5.0 (Windows NT 6.1; WOW64) AppleWebKi...      WARREN Q   \n",
       "2  Mozilla/5.0 (Macintosh; Intel Mac OS X 10_11_1...     MITCHEL O   \n",
       "3  Mozilla/5.0 (Macintosh; Intel Mac OS X 10_11_2...      MICHEL O   \n",
       "4  Mozilla/5.0 (Macintosh; Intel Mac OS X 10_10_2...      ANDREE N   \n",
       "\n",
       "     referrer_domain website_section platform  \n",
       "0             google             NaN  Desktop  \n",
       "1  themeteorchef.com            team  Desktop  \n",
       "2          watsi.org      gift-cards  Desktop  \n",
       "3                NaN             NaN  Desktop  \n",
       "4          watsi.org             NaN  Desktop  "
      ]
     },
     "execution_count": 2,
     "metadata": {},
     "output_type": "execute_result"
    }
   ],
   "source": [
    "# Give the DataFrame a variable name and preview the first five rows\n",
    "data = pd.read_csv('/users/bm/downloads/python-for-data-analysis/clone_of_python_tutorial.csv')\n",
    "data.head()"
   ]
  },
  {
   "cell_type": "markdown",
   "id": "sapphire-grant",
   "metadata": {},
   "source": [
    "### Counting with `.value_counts()`"
   ]
  },
  {
   "cell_type": "markdown",
   "id": "incorporate-pottery",
   "metadata": {},
   "source": [
    "> For categorical columns such as title, referrer_domain, website_section, or platform, you can aggregate the number of times each value occurred using the .value_counts() method. "
   ]
  },
  {
   "cell_type": "markdown",
   "id": "marked-calibration",
   "metadata": {},
   "source": [
    "If you want to know what the titles of Watsi's web pages are and how many pageviews each one received:"
   ]
  },
  {
   "cell_type": "code",
   "execution_count": 3,
   "id": "southeast-overall",
   "metadata": {},
   "outputs": [
    {
     "data": {
      "text/plain": [
       "Watsi | Fund medical treatments for people around the world                                             1268\n",
       "Watsi | Fund a medical treatment on Watsi. 100% of your donation directly funds a medical treatment.     606\n",
       "Watsi | About Us                                                                                         276\n",
       "Watsi | Join Watsi's Universal Fund                                                                      151\n",
       "Watsi | How Watsi works                                                                                   93\n",
       "Watsi | Reddit Uplifting News                                                                             61\n",
       "Watsi | From Burma to the Bay Area and beyond: Inside a year of health at Watsi                           55\n",
       "Watsi | Give the gift of health with a Watsi Gift Card                                                    52\n",
       "Watsi | Donor Settings                                                                                    41\n",
       "Watsi | Pledge your birthday on Watsi                                                                     32\n",
       "Watsi                                                                                                     32\n",
       "Watsi | Frequently Asked Questions                                                                        32\n",
       "Watsi | Chase's 29th Birthday                                                                             32\n",
       "The surprising role of Netflix in global health                                                           30\n",
       "Watsi | Start a chain of connections on Watsi                                                             30\n",
       "Watsi | Contact Us                                                                                        27\n",
       "Saying yes                                                                                                25\n",
       "Watsi | Our Funders                                                                                       20\n",
       "The Toast That Traveled 3,000 Miles                                                                       17\n",
       "Meet Chase!                                                                                               16\n",
       "Name: title, dtype: int64"
      ]
     },
     "execution_count": 3,
     "metadata": {},
     "output_type": "execute_result"
    }
   ],
   "source": [
    "# The top 20 most viewed pages and the number of pageviews\n",
    "data['title'].value_counts()[:20]"
   ]
  },
  {
   "cell_type": "markdown",
   "id": "checked-vinyl",
   "metadata": {},
   "source": [
    "### Python code execution and objects"
   ]
  },
  {
   "cell_type": "markdown",
   "id": "critical-laser",
   "metadata": {},
   "source": [
    "```python\n",
    "data['title'].value_counts()[:20]\n",
    "```\n",
    "In Python, this statement is executed from left to right, meaning that the statements layer on top, one by one.\n",
    "1. `data['title']` Select the \"title\" column. This results in a Series.<br><br>  \n",
    "2. `.value_counts()` Counts the values in the \"title\" Series. This results in a new Series, where the index is the \"title\" and the values are how often each occurred. The series is ordered in descending order from most frequently occurring title.<br><br>  \n",
    "3. `[:20]` Selects the first 20 most-frequently occurring titles from the last Series, created by `.value_counts()`. This results in yet another Series—the one which is finally displayed."
   ]
  },
  {
   "cell_type": "markdown",
   "id": "frequent-european",
   "metadata": {},
   "source": [
    "### Visualizing data with `.plot()`"
   ]
  },
  {
   "cell_type": "markdown",
   "id": "lyric-parker",
   "metadata": {},
   "source": [
    " In pandas, the `.plot()` method allows you to create a number of different types of charts with the DataFrame and Series objects."
   ]
  },
  {
   "cell_type": "markdown",
   "id": "conscious-saver",
   "metadata": {},
   "source": [
    "#### Bar charts"
   ]
  },
  {
   "cell_type": "markdown",
   "id": "graphic-option",
   "metadata": {},
   "source": [
    "To define the type of plot you want, you’ll use give `.plot()` a keyword called `kind=`. In this case, you can use the keywords `bar` or `barh` (for horizontal bar chart). "
   ]
  },
  {
   "cell_type": "code",
   "execution_count": 4,
   "id": "national-language",
   "metadata": {},
   "outputs": [
    {
     "data": {
      "text/plain": [
       "<AxesSubplot:>"
      ]
     },
     "execution_count": 4,
     "metadata": {},
     "output_type": "execute_result"
    },
    {
     "data": {
      "image/png": "[encoded data removed]",
      "text/plain": [
       "<Figure size 432x288 with 1 Axes>"
      ]
     },
     "metadata": {
      "needs_background": "light"
     },
     "output_type": "display_data"
    }
   ],
   "source": [
    "# Plot the most visited Watsi pages for comparison\n",
    "data['title'].value_counts()[:20].plot(kind='barh')"
   ]
  },
  {
   "cell_type": "markdown",
   "id": "alpine-ballot",
   "metadata": {},
   "source": [
    "The horizontal bar chart shows the **distribution** of frequently visited pages.\n",
    "\n",
    "Traffic volume was significantly lower for the 2nd highest-ranking page than for the top page. The drop from the second to the third is pretty substantial as well. Five pages down the list and traffic is looking pretty small by comparison. This is called a logarithmic or `long tail distribution`."
   ]
  },
  {
   "cell_type": "markdown",
   "id": "dental-issue",
   "metadata": {},
   "source": [
    "### Practice Problems"
   ]
  },
  {
   "cell_type": "markdown",
   "id": "medium-clinic",
   "metadata": {},
   "source": [
    "1. What were the 15 most popular website sections?"
   ]
  },
  {
   "cell_type": "code",
   "execution_count": 7,
   "id": "basic-syndication",
   "metadata": {},
   "outputs": [
    {
     "data": {
      "text/plain": [
       "profile                      1321\n",
       "fund-treatments               604\n",
       "about                         276\n",
       "campaign                      252\n",
       "donor                         217\n",
       "universal-fund                164\n",
       "how                            93\n",
       "gift-cards                     69\n",
       "welcome                        65\n",
       "2015                           60\n",
       "birthdays                      46\n",
       "faq                            32\n",
       "valentine                      32\n",
       "team                           32\n",
       "netflix-and-global-health      30\n",
       "Name: website_section, dtype: int64"
      ]
     },
     "execution_count": 7,
     "metadata": {},
     "output_type": "execute_result"
    }
   ],
   "source": [
    "data['website_section'].value_counts()[:15]"
   ]
  },
  {
   "cell_type": "code",
   "execution_count": 12,
   "id": "vertical-philip",
   "metadata": {},
   "outputs": [
    {
     "data": {
      "text/plain": [
       "<AxesSubplot:>"
      ]
     },
     "execution_count": 12,
     "metadata": {},
     "output_type": "execute_result"
    },
    {
     "data": {
      "image/png": "[encoded data removed]",
      "text/plain": [
       "<Figure size 432x288 with 1 Axes>"
      ]
     },
     "metadata": {
      "needs_background": "light"
     },
     "output_type": "display_data"
    }
   ],
   "source": [
    "data['website_section'].value_counts()[:15].plot(kind='barh', color='indigo')"
   ]
  },
  {
   "cell_type": "markdown",
   "id": "infectious-playback",
   "metadata": {},
   "source": [
    "2. What websites most commonly referred users to Watsi's pages? Create a frequency distribution bar chart. \n",
    "* Hint: `referrer_domain` is a simplified version of the `referrer` column. Domains like \"google.co.uk\" and \"google.com\" have been grouped under \"google\". Note that \"t.co\" is Twitter's link shortener, so those referrals are from Twitter."
   ]
  },
  {
   "cell_type": "code",
   "execution_count": 14,
   "id": "exotic-simple",
   "metadata": {},
   "outputs": [
    {
     "data": {
      "text/plain": [
       "watsi.org                2495\n",
       "google                    544\n",
       "t.co                      195\n",
       "facebook.com              170\n",
       "reddit.com                 99\n",
       "paypal.com                 11\n",
       "vessel.com                 11\n",
       "forbes.com                 10\n",
       "adzerk.net                 10\n",
       "everyaction.com             9\n",
       "entrepreneur.com            7\n",
       "bing.com                    7\n",
       "themeteorchef.com           7\n",
       "yahoo.com                   7\n",
       "thedoctorschannel.com       7\n",
       "Name: referrer_domain, dtype: int64"
      ]
     },
     "execution_count": 14,
     "metadata": {},
     "output_type": "execute_result"
    }
   ],
   "source": [
    "data['referrer_domain'].value_counts()[:15]"
   ]
  },
  {
   "cell_type": "code",
   "execution_count": 17,
   "id": "accessory-cattle",
   "metadata": {},
   "outputs": [
    {
     "data": {
      "text/plain": [
       "<AxesSubplot:title={'center':'Top Referrers to Watsi.org'}>"
      ]
     },
     "execution_count": 17,
     "metadata": {},
     "output_type": "execute_result"
    },
    {
     "data": {
      "image/png": "[encoded data removed]",
      "text/plain": [
       "<Figure size 432x288 with 1 Axes>"
      ]
     },
     "metadata": {
      "needs_background": "light"
     },
     "output_type": "display_data"
    }
   ],
   "source": [
    "data['referrer_domain'].value_counts()[:20].plot(kind='bar', color='seagreen', title='Top Referrers to Watsi.org')"
   ]
  },
  {
   "cell_type": "markdown",
   "id": "literary-juvenile",
   "metadata": {},
   "source": [
    "3. When people visited Watsi, what devices were they using? Plot the relative counts of pageviews from each platform."
   ]
  },
  {
   "cell_type": "code",
   "execution_count": 19,
   "id": "enhanced-freeze",
   "metadata": {},
   "outputs": [
    {
     "data": {
      "text/plain": [
       "<AxesSubplot:title={'center':'Platforms used to visit Watsi'}>"
      ]
     },
     "execution_count": 19,
     "metadata": {},
     "output_type": "execute_result"
    },
    {
     "data": {
      "image/png": "[encoded data removed]",
      "text/plain": [
       "<Figure size 432x288 with 1 Axes>"
      ]
     },
     "metadata": {
      "needs_background": "light"
     },
     "output_type": "display_data"
    }
   ],
   "source": [
    "data['platform'].value_counts()[:20].plot(kind='barh', title='Platforms used to visit Watsi')"
   ]
  },
  {
   "cell_type": "code",
   "execution_count": null,
   "id": "stainless-lesson",
   "metadata": {},
   "outputs": [],
   "source": []
  }
 ],
 "metadata": {
  "kernelspec": {
   "display_name": "Python 3",
   "language": "python",
   "name": "python3"
  },
  "language_info": {
   "codemirror_mode": {
    "name": "ipython",
    "version": 3
   },
   "file_extension": ".py",
   "mimetype": "text/x-python",
   "name": "python",
   "nbconvert_exporter": "python",
   "pygments_lexer": "ipython3",
   "version": "3.8.5"
  },
  "toc": {
   "base_numbering": 1,
   "nav_menu": {},
   "number_sections": false,
   "sideBar": false,
   "skip_h1_title": true,
   "title_cell": "Contents",
   "title_sidebar": "Contents",
   "toc_cell": true,
   "toc_position": {},
   "toc_section_display": false,
   "toc_window_display": false
  }
 },
 "nbformat": 4,
 "nbformat_minor": 5
}
