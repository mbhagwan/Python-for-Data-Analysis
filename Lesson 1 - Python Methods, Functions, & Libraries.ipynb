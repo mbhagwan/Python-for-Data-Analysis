{
 "cells": [
  {
   "cell_type": "markdown",
   "id": "earlier-memorial",
   "metadata": {},
   "source": [
    "# Python Methods, Functions, & Libraries"
   ]
  },
  {
   "cell_type": "markdown",
   "id": "falling-course",
   "metadata": {
    "toc": true
   },
   "source": [
    "<h1>Contents<span class=\"tocSkip\"></span></h1>\n",
    "<div class=\"toc\"><ul class=\"toc-item\"><li><span><a href=\"#Dictionary-Methods\" data-toc-modified-id=\"Dictionary-Methods-1\">Dictionary Methods</a></span><ul class=\"toc-item\"><li><span><a href=\"#Keys()-Method\" data-toc-modified-id=\"Keys()-Method-1.1\">Keys() Method</a></span></li><li><span><a href=\"#Values()-Method\" data-toc-modified-id=\"Values()-Method-1.2\">Values() Method</a></span></li></ul></li><li><span><a href=\"#Python-NumPy-Library\" data-toc-modified-id=\"Python-NumPy-Library-2\">Python NumPy Library</a></span></li></ul></div>"
   ]
  },
  {
   "cell_type": "markdown",
   "id": "exterior-evaluation",
   "metadata": {},
   "source": [
    "## Dictionary Methods"
   ]
  },
  {
   "cell_type": "code",
   "execution_count": 33,
   "id": "patent-tablet",
   "metadata": {},
   "outputs": [],
   "source": [
    "city_population = {\n",
    "  'Tokyo': 13350000, # a key-value pair\n",
    "  'Los Angeles': 18550000,\n",
    "  'New York City': 8400000,\n",
    "  'San Francisco': 1837442,\n",
    "}"
   ]
  },
  {
   "cell_type": "markdown",
   "id": "bridal-calcium",
   "metadata": {},
   "source": [
    "### Keys() Method"
   ]
  },
  {
   "cell_type": "code",
   "execution_count": 37,
   "id": "western-juice",
   "metadata": {},
   "outputs": [
    {
     "data": {
      "text/plain": [
       "dict_keys(['Tokyo', 'Los Angeles', 'New York City', 'San Francisco'])"
      ]
     },
     "execution_count": 37,
     "metadata": {},
     "output_type": "execute_result"
    }
   ],
   "source": [
    "# To see all the keys in a dictionary\n",
    "city_population.keys()"
   ]
  },
  {
   "cell_type": "markdown",
   "id": "charged-victory",
   "metadata": {},
   "source": [
    "### Values() Method"
   ]
  },
  {
   "cell_type": "code",
   "execution_count": 38,
   "id": "recorded-water",
   "metadata": {},
   "outputs": [
    {
     "data": {
      "text/plain": [
       "dict_values([13350000, 18550000, 8400000, 1837442])"
      ]
     },
     "execution_count": 38,
     "metadata": {},
     "output_type": "execute_result"
    }
   ],
   "source": [
    "# To get the values in a dictionary\n",
    "city_population.values()"
   ]
  },
  {
   "cell_type": "markdown",
   "id": "historical-assets",
   "metadata": {},
   "source": [
    "## Python NumPy Library"
   ]
  },
  {
   "cell_type": "code",
   "execution_count": 34,
   "id": "marine-intent",
   "metadata": {},
   "outputs": [],
   "source": [
    "# Import the numpy library in order to use its methods\n",
    "import numpy as np"
   ]
  },
  {
   "cell_type": "code",
   "execution_count": 35,
   "id": "alternative-ferry",
   "metadata": {},
   "outputs": [
    {
     "data": {
      "text/plain": [
       "[13350000, 18550000, 8400000, 1837442]"
      ]
     },
     "execution_count": 35,
     "metadata": {},
     "output_type": "execute_result"
    }
   ],
   "source": [
    "# Assign the list of values from the dictionary to population_values\n",
    "population_values = list(city_population.values())\n",
    "population_values"
   ]
  },
  {
   "cell_type": "code",
   "execution_count": 39,
   "id": "returning-stick",
   "metadata": {},
   "outputs": [
    {
     "data": {
      "text/plain": [
       "10534360.5"
      ]
     },
     "execution_count": 39,
     "metadata": {},
     "output_type": "execute_result"
    }
   ],
   "source": [
    "# Use .mean() method from the numpy library to find the average population size\n",
    "np.mean(population_values)"
   ]
  }
 ],
 "metadata": {
  "kernelspec": {
   "display_name": "Python 3",
   "language": "python",
   "name": "python3"
  },
  "language_info": {
   "codemirror_mode": {
    "name": "ipython",
    "version": 3
   },
   "file_extension": ".py",
   "mimetype": "text/x-python",
   "name": "python",
   "nbconvert_exporter": "python",
   "pygments_lexer": "ipython3",
   "version": "3.8.5"
  },
  "toc": {
   "base_numbering": 1,
   "nav_menu": {},
   "number_sections": false,
   "sideBar": false,
   "skip_h1_title": true,
   "title_cell": "Contents",
   "title_sidebar": "Contents",
   "toc_cell": true,
   "toc_position": {},
   "toc_section_display": false,
   "toc_window_display": false
  }
 },
 "nbformat": 4,
 "nbformat_minor": 5
}
