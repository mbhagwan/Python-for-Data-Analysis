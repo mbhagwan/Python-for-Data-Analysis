{
 "cells": [
  {
   "cell_type": "markdown",
   "id": "opening-mustang",
   "metadata": {},
   "source": [
    "# Creating Pandas DataFrames & Selecting Data"
   ]
  },
  {
   "cell_type": "markdown",
   "id": "falling-course",
   "metadata": {
    "toc": true
   },
   "source": [
    "<h1>Contents<span class=\"tocSkip\"></span></h1>\n",
    "<div class=\"toc\"><ul class=\"toc-item\"><li><span><a href=\"#Pandas-DataFrames\" data-toc-modified-id=\"Pandas-DataFrames-1\">Pandas DataFrames</a></span><ul class=\"toc-item\"><li><span><a href=\"#Loading-Data-into-a-Python-Notebook\" data-toc-modified-id=\"Loading-Data-into-a-Python-Notebook-1.1\">Loading Data into a Python Notebook</a></span><ul class=\"toc-item\"><li><span><a href=\"#Prepping-a-DataFrame\" data-toc-modified-id=\"Prepping-a-DataFrame-1.1.1\">Prepping a DataFrame</a></span></li><li><span><a href=\"#About-this-dataset\" data-toc-modified-id=\"About-this-dataset-1.1.2\">About this dataset</a></span></li></ul></li><li><span><a href=\"#Selecting-rows-in-a-DataFrame\" data-toc-modified-id=\"Selecting-rows-in-a-DataFrame-1.2\">Selecting rows in a DataFrame</a></span><ul class=\"toc-item\"><li><span><a href=\"#Selecting-a-specific-row\" data-toc-modified-id=\"Selecting-a-specific-row-1.2.1\">Selecting a specific row</a></span></li></ul></li><li><span><a href=\"#Selecting-rows-and-columns-in-a-DataFrame\" data-toc-modified-id=\"Selecting-rows-and-columns-in-a-DataFrame-1.3\">Selecting rows and columns in a DataFrame</a></span></li></ul></li></ul></div>"
   ]
  },
  {
   "cell_type": "markdown",
   "id": "potential-factor",
   "metadata": {},
   "source": [
    "## Pandas DataFrames"
   ]
  },
  {
   "cell_type": "markdown",
   "id": "consolidated-message",
   "metadata": {},
   "source": [
    "Pandas has a few powerful data structures:\n",
    "+ A table with multiple columns is a **DataFrame.**\n",
    "+ A column of a DataFrame, or a list-like object, is a **Series.**\n",
    "\n",
    "DataFrames can load data through a number of **different data structures and files**, including lists and dictionaries, csv files, excel files, and database records (more on that [here](http://pandas.pydata.org/pandas-docs/stable/dsintro.html#dataframe))."
   ]
  },
  {
   "cell_type": "markdown",
   "id": "controlling-dodge",
   "metadata": {},
   "source": [
    "### Loading Data into a Python Notebook"
   ]
  },
  {
   "cell_type": "markdown",
   "id": "fancy-nepal",
   "metadata": {},
   "source": [
    "> In this and the next few lessons, we will be analyzing web traffic data from Watsi, an organization that allows people to fund healthcare costs for people around the world."
   ]
  },
  {
   "cell_type": "code",
   "execution_count": 1,
   "id": "straight-characteristic",
   "metadata": {},
   "outputs": [],
   "source": [
    "import pandas as pd\n",
    "data = pd.read_csv('/users/bm/downloads/python-for-data-analysis/clone_of_python_tutorial.csv')"
   ]
  },
  {
   "cell_type": "code",
   "execution_count": 2,
   "id": "magnetic-response",
   "metadata": {},
   "outputs": [
    {
     "data": {
      "text/html": [
       "<div>\n",
       "<style scoped>\n",
       "    .dataframe tbody tr th:only-of-type {\n",
       "        vertical-align: middle;\n",
       "    }\n",
       "\n",
       "    .dataframe tbody tr th {\n",
       "        vertical-align: top;\n",
       "    }\n",
       "\n",
       "    .dataframe thead th {\n",
       "        text-align: right;\n",
       "    }\n",
       "</style>\n",
       "<table border=\"1\" class=\"dataframe\">\n",
       "  <thead>\n",
       "    <tr style=\"text-align: right;\">\n",
       "      <th></th>\n",
       "      <th>referrer</th>\n",
       "      <th>timestamp</th>\n",
       "      <th>title</th>\n",
       "      <th>url</th>\n",
       "      <th>user_agent</th>\n",
       "      <th>user_id</th>\n",
       "      <th>referrer_domain</th>\n",
       "      <th>website_section</th>\n",
       "      <th>platform</th>\n",
       "    </tr>\n",
       "  </thead>\n",
       "  <tbody>\n",
       "    <tr>\n",
       "      <th>0</th>\n",
       "      <td>https://www.google.com/</td>\n",
       "      <td>2016-02-05 00:48:23</td>\n",
       "      <td>Watsi | Fund medical treatments for people aro...</td>\n",
       "      <td>https://watsi.org/</td>\n",
       "      <td>Mozilla/5.0 (Macintosh; Intel Mac OS X 10_10_4...</td>\n",
       "      <td>CHAROLETTE S</td>\n",
       "      <td>google</td>\n",
       "      <td>NaN</td>\n",
       "      <td>Desktop</td>\n",
       "    </tr>\n",
       "    <tr>\n",
       "      <th>1</th>\n",
       "      <td>https://themeteorchef.com/snippets/making-use-...</td>\n",
       "      <td>2016-02-24 23:12:10</td>\n",
       "      <td>Watsi | The Meteor Chef</td>\n",
       "      <td>https://watsi.org/team/the-meteor-chef</td>\n",
       "      <td>Mozilla/5.0 (Windows NT 6.1; WOW64) AppleWebKi...</td>\n",
       "      <td>WARREN Q</td>\n",
       "      <td>themeteorchef.com</td>\n",
       "      <td>team</td>\n",
       "      <td>Desktop</td>\n",
       "    </tr>\n",
       "    <tr>\n",
       "      <th>2</th>\n",
       "      <td>https://watsi.org/</td>\n",
       "      <td>2015-12-25 17:59:35</td>\n",
       "      <td>Watsi | Give the gift of health with a Watsi G...</td>\n",
       "      <td>https://watsi.org/gift-cards</td>\n",
       "      <td>Mozilla/5.0 (Macintosh; Intel Mac OS X 10_11_1...</td>\n",
       "      <td>MITCHEL O</td>\n",
       "      <td>watsi.org</td>\n",
       "      <td>gift-cards</td>\n",
       "      <td>Desktop</td>\n",
       "    </tr>\n",
       "    <tr>\n",
       "      <th>3</th>\n",
       "      <td>NaN</td>\n",
       "      <td>2016-02-05 21:19:30</td>\n",
       "      <td>Watsi | Fund medical treatments for people aro...</td>\n",
       "      <td>https://watsi.org/</td>\n",
       "      <td>Mozilla/5.0 (Macintosh; Intel Mac OS X 10_11_2...</td>\n",
       "      <td>MICHEL O</td>\n",
       "      <td>NaN</td>\n",
       "      <td>NaN</td>\n",
       "      <td>Desktop</td>\n",
       "    </tr>\n",
       "    <tr>\n",
       "      <th>4</th>\n",
       "      <td>https://watsi.org/fund-treatments</td>\n",
       "      <td>2016-02-14 19:30:08</td>\n",
       "      <td>Watsi | Fund medical treatments for people aro...</td>\n",
       "      <td>https://watsi.org/</td>\n",
       "      <td>Mozilla/5.0 (Macintosh; Intel Mac OS X 10_10_2...</td>\n",
       "      <td>ANDREE N</td>\n",
       "      <td>watsi.org</td>\n",
       "      <td>NaN</td>\n",
       "      <td>Desktop</td>\n",
       "    </tr>\n",
       "  </tbody>\n",
       "</table>\n",
       "</div>"
      ],
      "text/plain": [
       "                                            referrer            timestamp  \\\n",
       "0                            https://www.google.com/  2016-02-05 00:48:23   \n",
       "1  https://themeteorchef.com/snippets/making-use-...  2016-02-24 23:12:10   \n",
       "2                                 https://watsi.org/  2015-12-25 17:59:35   \n",
       "3                                                NaN  2016-02-05 21:19:30   \n",
       "4                  https://watsi.org/fund-treatments  2016-02-14 19:30:08   \n",
       "\n",
       "                                               title  \\\n",
       "0  Watsi | Fund medical treatments for people aro...   \n",
       "1                            Watsi | The Meteor Chef   \n",
       "2  Watsi | Give the gift of health with a Watsi G...   \n",
       "3  Watsi | Fund medical treatments for people aro...   \n",
       "4  Watsi | Fund medical treatments for people aro...   \n",
       "\n",
       "                                      url  \\\n",
       "0                      https://watsi.org/   \n",
       "1  https://watsi.org/team/the-meteor-chef   \n",
       "2            https://watsi.org/gift-cards   \n",
       "3                      https://watsi.org/   \n",
       "4                      https://watsi.org/   \n",
       "\n",
       "                                          user_agent       user_id  \\\n",
       "0  Mozilla/5.0 (Macintosh; Intel Mac OS X 10_10_4...  CHAROLETTE S   \n",
       "1  Mozilla/5.0 (Windows NT 6.1; WOW64) AppleWebKi...      WARREN Q   \n",
       "2  Mozilla/5.0 (Macintosh; Intel Mac OS X 10_11_1...     MITCHEL O   \n",
       "3  Mozilla/5.0 (Macintosh; Intel Mac OS X 10_11_2...      MICHEL O   \n",
       "4  Mozilla/5.0 (Macintosh; Intel Mac OS X 10_10_2...      ANDREE N   \n",
       "\n",
       "     referrer_domain website_section platform  \n",
       "0             google             NaN  Desktop  \n",
       "1  themeteorchef.com            team  Desktop  \n",
       "2          watsi.org      gift-cards  Desktop  \n",
       "3                NaN             NaN  Desktop  \n",
       "4          watsi.org             NaN  Desktop  "
      ]
     },
     "execution_count": 2,
     "metadata": {},
     "output_type": "execute_result"
    }
   ],
   "source": [
    "# Print first 5 rows of the dataframe\n",
    "data.head()"
   ]
  },
  {
   "cell_type": "markdown",
   "id": "wired-huntington",
   "metadata": {},
   "source": [
    "#### Prepping a DataFrame"
   ]
  },
  {
   "cell_type": "code",
   "execution_count": 3,
   "id": "valuable-courage",
   "metadata": {},
   "outputs": [],
   "source": [
    "# To do a text cleanup, use the fillna() method to replace missing values with empty strings\n",
    "data = data.fillna('')"
   ]
  },
  {
   "cell_type": "markdown",
   "id": "linear-ridge",
   "metadata": {},
   "source": [
    "#### About this dataset"
   ]
  },
  {
   "cell_type": "markdown",
   "id": "artificial-dodge",
   "metadata": {},
   "source": [
    "In this lesson you'll be working with web traffic data from a nonprofit called **Watsi**. Every row in this dataset corresponds to a person visiting a watsi.org page (this is known as a **pageview**). The general flow of pageviews is referred to as **web traffic**.\n",
    "\n",
    "Every pageview (row in the dataset) is composed of:\n",
    "\n",
    "+ `referrer` The url that referred the user to the site (if available). For example, if someone arrived at the page through a Facebook link, `referrer` would be https://www.facebook.com  \n",
    "\n",
    "+ `timestamp` The time the event occurred  \n",
    "\n",
    "+ `title` The title of the page the user visited on the Watsi website  \n",
    "\n",
    "+ `url` The url the user visited. For example, https://watsi.org/team/the-meteor-chef\n",
    "\n",
    "+ `user_agent` The software the user used to accessed the site, including platform, browser, and extensions\n",
    "\n",
    "+ `user_id` A unique id for each user (normally they’d be numbers—we've turned them into anonymous names instead)\n",
    "\n",
    "+ `referrer_domain` The domain of the url that referred the user to the site. For example, \"facebook.com\"\n",
    "\n",
    "+ `website_section` The section of the website visited. For example, the section of https://watsi.org/team/the-meteor-chef is \"team\"\n",
    "\n",
    "+ `platform` The device platform the user visited from. Possible values are \"Desktop\" and \"Mobile\""
   ]
  },
  {
   "cell_type": "markdown",
   "id": "extended-namibia",
   "metadata": {},
   "source": [
    "Just like you can select a value in a list or dictionary using brackets, you can use brackets to select a column in the DataFrame."
   ]
  },
  {
   "cell_type": "code",
   "execution_count": 4,
   "id": "established-modification",
   "metadata": {
    "scrolled": true
   },
   "outputs": [
    {
     "data": {
      "text/plain": [
       "0                                 https://watsi.org/\n",
       "1             https://watsi.org/team/the-meteor-chef\n",
       "2                       https://watsi.org/gift-cards\n",
       "3                                 https://watsi.org/\n",
       "4                                 https://watsi.org/\n",
       "                            ...                     \n",
       "4995               https://watsi.org/fund-treatments\n",
       "4996                              https://watsi.org/\n",
       "4997                              https://watsi.org/\n",
       "4998    https://watsi.org/profile/6705ce017f7e-sarah\n",
       "4999        https://watsi.org/fund-treatments?page=4\n",
       "Name: url, Length: 5000, dtype: object"
      ]
     },
     "execution_count": 4,
     "metadata": {},
     "output_type": "execute_result"
    }
   ],
   "source": [
    "data['url']"
   ]
  },
  {
   "cell_type": "markdown",
   "id": "greater-agenda",
   "metadata": {},
   "source": [
    "The url column you got back has a list of numbers on the left. This is called the index, which uniquely identifies rows in the DataFrame. You will use the index to select individual rows, similar to how you select items from a list."
   ]
  },
  {
   "cell_type": "markdown",
   "id": "abstract-yorkshire",
   "metadata": {},
   "source": [
    "### Selecting rows in a DataFrame"
   ]
  },
  {
   "cell_type": "code",
   "execution_count": 5,
   "id": "corrected-affairs",
   "metadata": {
    "scrolled": true
   },
   "outputs": [
    {
     "data": {
      "text/html": [
       "<div>\n",
       "<style scoped>\n",
       "    .dataframe tbody tr th:only-of-type {\n",
       "        vertical-align: middle;\n",
       "    }\n",
       "\n",
       "    .dataframe tbody tr th {\n",
       "        vertical-align: top;\n",
       "    }\n",
       "\n",
       "    .dataframe thead th {\n",
       "        text-align: right;\n",
       "    }\n",
       "</style>\n",
       "<table border=\"1\" class=\"dataframe\">\n",
       "  <thead>\n",
       "    <tr style=\"text-align: right;\">\n",
       "      <th></th>\n",
       "      <th>referrer</th>\n",
       "      <th>timestamp</th>\n",
       "      <th>title</th>\n",
       "      <th>url</th>\n",
       "      <th>user_agent</th>\n",
       "      <th>user_id</th>\n",
       "      <th>referrer_domain</th>\n",
       "      <th>website_section</th>\n",
       "      <th>platform</th>\n",
       "    </tr>\n",
       "  </thead>\n",
       "  <tbody>\n",
       "    <tr>\n",
       "      <th>0</th>\n",
       "      <td>https://www.google.com/</td>\n",
       "      <td>2016-02-05 00:48:23</td>\n",
       "      <td>Watsi | Fund medical treatments for people aro...</td>\n",
       "      <td>https://watsi.org/</td>\n",
       "      <td>Mozilla/5.0 (Macintosh; Intel Mac OS X 10_10_4...</td>\n",
       "      <td>CHAROLETTE S</td>\n",
       "      <td>google</td>\n",
       "      <td></td>\n",
       "      <td>Desktop</td>\n",
       "    </tr>\n",
       "    <tr>\n",
       "      <th>1</th>\n",
       "      <td>https://themeteorchef.com/snippets/making-use-...</td>\n",
       "      <td>2016-02-24 23:12:10</td>\n",
       "      <td>Watsi | The Meteor Chef</td>\n",
       "      <td>https://watsi.org/team/the-meteor-chef</td>\n",
       "      <td>Mozilla/5.0 (Windows NT 6.1; WOW64) AppleWebKi...</td>\n",
       "      <td>WARREN Q</td>\n",
       "      <td>themeteorchef.com</td>\n",
       "      <td>team</td>\n",
       "      <td>Desktop</td>\n",
       "    </tr>\n",
       "    <tr>\n",
       "      <th>2</th>\n",
       "      <td>https://watsi.org/</td>\n",
       "      <td>2015-12-25 17:59:35</td>\n",
       "      <td>Watsi | Give the gift of health with a Watsi G...</td>\n",
       "      <td>https://watsi.org/gift-cards</td>\n",
       "      <td>Mozilla/5.0 (Macintosh; Intel Mac OS X 10_11_1...</td>\n",
       "      <td>MITCHEL O</td>\n",
       "      <td>watsi.org</td>\n",
       "      <td>gift-cards</td>\n",
       "      <td>Desktop</td>\n",
       "    </tr>\n",
       "  </tbody>\n",
       "</table>\n",
       "</div>"
      ],
      "text/plain": [
       "                                            referrer            timestamp  \\\n",
       "0                            https://www.google.com/  2016-02-05 00:48:23   \n",
       "1  https://themeteorchef.com/snippets/making-use-...  2016-02-24 23:12:10   \n",
       "2                                 https://watsi.org/  2015-12-25 17:59:35   \n",
       "\n",
       "                                               title  \\\n",
       "0  Watsi | Fund medical treatments for people aro...   \n",
       "1                            Watsi | The Meteor Chef   \n",
       "2  Watsi | Give the gift of health with a Watsi G...   \n",
       "\n",
       "                                      url  \\\n",
       "0                      https://watsi.org/   \n",
       "1  https://watsi.org/team/the-meteor-chef   \n",
       "2            https://watsi.org/gift-cards   \n",
       "\n",
       "                                          user_agent       user_id  \\\n",
       "0  Mozilla/5.0 (Macintosh; Intel Mac OS X 10_10_4...  CHAROLETTE S   \n",
       "1  Mozilla/5.0 (Windows NT 6.1; WOW64) AppleWebKi...      WARREN Q   \n",
       "2  Mozilla/5.0 (Macintosh; Intel Mac OS X 10_11_1...     MITCHEL O   \n",
       "\n",
       "     referrer_domain website_section platform  \n",
       "0             google                  Desktop  \n",
       "1  themeteorchef.com            team  Desktop  \n",
       "2          watsi.org      gift-cards  Desktop  "
      ]
     },
     "execution_count": 5,
     "metadata": {},
     "output_type": "execute_result"
    }
   ],
   "source": [
    "# To select the first three rows of the DataFrame:\n",
    "data[:3]"
   ]
  },
  {
   "cell_type": "markdown",
   "id": "going-candy",
   "metadata": {},
   "source": [
    "<i>To select rows \"from index 4 up to index 6\":</i>\n",
    "```python\n",
    "data[4:7]\n",
    "```\n",
    "<i>To select rows \"from index 4997 onward\":</i>\n",
    "```python\n",
    "data[4997:]\n",
    "```"
   ]
  },
  {
   "cell_type": "markdown",
   "id": "excess-withdrawal",
   "metadata": {},
   "source": [
    "#### Selecting a specific row"
   ]
  },
  {
   "cell_type": "code",
   "execution_count": 6,
   "id": "brief-defense",
   "metadata": {},
   "outputs": [
    {
     "data": {
      "text/plain": [
       "referrer           https://themeteorchef.com/snippets/making-use-...\n",
       "timestamp                                        2016-02-24 23:12:10\n",
       "title                                        Watsi | The Meteor Chef\n",
       "url                           https://watsi.org/team/the-meteor-chef\n",
       "user_agent         Mozilla/5.0 (Windows NT 6.1; WOW64) AppleWebKi...\n",
       "user_id                                                     WARREN Q\n",
       "referrer_domain                                    themeteorchef.com\n",
       "website_section                                                 team\n",
       "platform                                                     Desktop\n",
       "Name: 1, dtype: object"
      ]
     },
     "execution_count": 6,
     "metadata": {},
     "output_type": "execute_result"
    }
   ],
   "source": [
    "# To select a specific row\n",
    "data.iloc[1]"
   ]
  },
  {
   "cell_type": "markdown",
   "id": "vietnamese-round",
   "metadata": {},
   "source": [
    "### Selecting rows and columns in a DataFrame"
   ]
  },
  {
   "cell_type": "code",
   "execution_count": 7,
   "id": "dynamic-driver",
   "metadata": {},
   "outputs": [
    {
     "data": {
      "text/plain": [
       "0    Watsi | Fund medical treatments for people aro...\n",
       "1                              Watsi | The Meteor Chef\n",
       "2    Watsi | Give the gift of health with a Watsi G...\n",
       "Name: title, dtype: object"
      ]
     },
     "execution_count": 7,
     "metadata": {},
     "output_type": "execute_result"
    }
   ],
   "source": [
    "# To select the first three rows of the 'title' column\n",
    "data['title'][:3]"
   ]
  },
  {
   "cell_type": "code",
   "execution_count": null,
   "id": "processed-captain",
   "metadata": {},
   "outputs": [],
   "source": []
  }
 ],
 "metadata": {
  "kernelspec": {
   "display_name": "Python 3",
   "language": "python",
   "name": "python3"
  },
  "language_info": {
   "codemirror_mode": {
    "name": "ipython",
    "version": 3
   },
   "file_extension": ".py",
   "mimetype": "text/x-python",
   "name": "python",
   "nbconvert_exporter": "python",
   "pygments_lexer": "ipython3",
   "version": "3.8.5"
  },
  "toc": {
   "base_numbering": 1,
   "nav_menu": {},
   "number_sections": false,
   "sideBar": false,
   "skip_h1_title": true,
   "title_cell": "Contents",
   "title_sidebar": "Contents",
   "toc_cell": true,
   "toc_position": {},
   "toc_section_display": false,
   "toc_window_display": false
  }
 },
 "nbformat": 4,
 "nbformat_minor": 5
}
